{
 "cells": [
  {
   "cell_type": "code",
   "execution_count": 2,
   "id": "c9196671-1d56-49ab-8afe-56369e54b482",
   "metadata": {
    "tags": []
   },
   "outputs": [
    {
     "name": "stderr",
     "output_type": "stream",
     "text": [
      "[ 000000.00 ]: 08-15 07:32  root            INFO     No pypower module detected, gridding with this method is unavailable\n",
      "[ 000000.00 ]: 08-15 07:32  root            INFO     Jax is not available, loading numpy and scipy instead\n"
     ]
    }
   ],
   "source": [
    "import glob\n",
    "import numpy as np\n",
    "import pandas as pd\n",
    "import matplotlib.pyplot as plt\n",
    "from astropy.io import ascii\n",
    "from astropy.constants import c \n",
    "__C_LIGHT_KMS__ = c.to('km/s').value\n",
    "from astropy.cosmology import FlatLambdaCDM\n",
    "cosmo = FlatLambdaCDM(H0=67.74, Om0=0.3089)\n",
    "import os\n",
    "plt.style.use(['seaborn-v0_8-deep', os.environ['HOME'] + '/.matplotlib_style/paper.mplstyle'])\n",
    "import scipy.stats as scs\n",
    "from pathlib import Path\n",
    "import sys\n",
    "sys.path.append('/global/homes/b/bastienc/')\n",
    "sys.path.append('../scripts/')\n",
    "import snanapytools as snt\n",
    "import my_utils as mut\n",
    "import paper_fun as pf\n",
    "import flip\n",
    "KEYS = ['C11', 'G10', 'P21', 'RNDSMEAR']\n",
    "TRIPP_KEYS = ['alpha', 'beta', 'M_0', 'sigma_M', 'gamma']\n",
    "PIPPIN_DIR = Path(os.environ['PIPPIN_OUTPUT'])\n",
    "UCHUU_PATH = Path('/global/homes/b/bastienc/MY_SNANA_DIR/UchuuCatalogs/UchuuDR2_UM/mocks')"
   ]
  },
  {
   "cell_type": "code",
   "execution_count": 3,
   "id": "a7561a98-d6ff-474f-bcbd-d7fd986bfacf",
   "metadata": {
    "tags": []
   },
   "outputs": [],
   "source": [
    "mock = 0    \n",
    "model = 'P21'\n",
    "MOCK_DIR = PIPPIN_DIR / f'LSST_UCHUU_MOCK{mock:02d}_BC'\n",
    "SIM_DIR = MOCK_DIR / '1_SIM' / f'LSST_{model}'\n",
    "SIM_DIR /= f'PIP_LSST_UCHUU_MOCK00_BC_LSST_{model}'\n",
    "FIT_DIR =  MOCK_DIR / '2_LCFIT'\n",
    "UCHUU_MOCKS = UCHUU_PATH / 'mocks_z0p00_zmax0p1739_GalMag_SNANA/'\n",
    "\n",
    "BBC_DIR = MOCK_DIR / f'6_BIASCOR/LSST_{model}/output'\n",
    "BBC_FILE = BBC_DIR / f'OUTPUT_BBCFIT/FITOPT000_MUOPT000.FITRES.gz'\n",
    "FIT_FILE = FIT_DIR /  f'LSST_FIT_LSST_{model}/output/PIP_LSST_UCHUU_MOCK{mock:02d}_BC_LSST_{model}/FITOPT000.FITRES.gz'\n",
    "bbc = ascii.read(BBC_FILE).to_pandas()\n",
    "fitres = ascii.read(FIT_FILE).to_pandas()"
   ]
  },
  {
   "cell_type": "code",
   "execution_count": 4,
   "id": "c17f6a94-baa4-438e-baa8-0a7279846070",
   "metadata": {},
   "outputs": [],
   "source": [
    "mock = 0    \n",
    "model = 'G10'\n",
    "MOCK_DIR = PIPPIN_DIR / f'LSST_UCHUU_MOCK{mock:02d}_BC'\n",
    "SIM_DIR = MOCK_DIR / '1_SIM' / f'LSST_{model}'\n",
    "SIM_DIR /= f'PIP_LSST_UCHUU_MOCK00_BC_LSST_{model}'\n",
    "FIT_DIR =  MOCK_DIR / '2_LCFIT'\n",
    "UCHUU_MOCKS = UCHUU_PATH / 'mocks_z0p00_zmax0p1739_GalMag_SNANA/'\n",
    "\n",
    "BBC_DIR = MOCK_DIR / f'6_BIASCOR/LSST_{model}/output'\n",
    "BBC_FILE = BBC_DIR / f'OUTPUT_BBCFIT/FITOPT000_MUOPT000.FITRES.gz'\n",
    "FIT_FILE = FIT_DIR /  f'LSST_FIT_LSST_{model}/output/PIP_LSST_UCHUU_MOCK{mock:02d}_BC_LSST_{model}/FITOPT000.FITRES.gz'\n",
    "\n",
    "bbc_g10 =  ascii.read(BBC_FILE).to_pandas()"
   ]
  },
  {
   "cell_type": "code",
   "execution_count": 5,
   "id": "9b09c459-1f8e-47e8-8feb-d926747d9785",
   "metadata": {},
   "outputs": [
    {
     "data": {
      "text/plain": [
       "(array([  37.,  299.,  914., 1549., 1553., 1252.,  837.,  513.,  350.,\n",
       "         228.]),\n",
       " array([-0.224329 , -0.1719131, -0.1194972, -0.0670813, -0.0146654,\n",
       "         0.0377505,  0.0901664,  0.1425823,  0.1949982,  0.2474141,\n",
       "         0.29983  ]),\n",
       " <BarContainer object of 10 artists>)"
      ]
     },
     "execution_count": 5,
     "metadata": {},
     "output_type": "execute_result"
    },
    {
     "data": {
      "image/png": "[encoded data removed]",
      "text/plain": [
       "<Figure size 600x400 with 1 Axes>"
      ]
     },
     "metadata": {},
     "output_type": "display_data"
    }
   ],
   "source": [
    "plt.hist(bbc['c'])"
   ]
  },
  {
   "cell_type": "code",
   "execution_count": 6,
   "id": "001be48e-aafd-4be9-a86d-5c60a8508631",
   "metadata": {},
   "outputs": [
    {
     "ename": "NameError",
     "evalue": "name 'sbbc' is not defined",
     "output_type": "error",
     "traceback": [
      "\u001b[0;31m---------------------------------------------------------------------------\u001b[0m",
      "\u001b[0;31mNameError\u001b[0m                                 Traceback (most recent call last)",
      "Cell \u001b[0;32mIn[6], line 1\u001b[0m\n\u001b[0;32m----> 1\u001b[0m \u001b[38;5;28mlen\u001b[39m(\u001b[43msbbc\u001b[49m) \u001b[38;5;241m/\u001b[39m \u001b[38;5;28mlen\u001b[39m(bbc)\n",
      "\u001b[0;31mNameError\u001b[0m: name 'sbbc' is not defined"
     ]
    }
   ],
   "source": [
    "len(sbbc) / len(bbc)"
   ]
  },
  {
   "cell_type": "code",
   "execution_count": null,
   "id": "379fe48d-6140-4303-8932-23522253ce49",
   "metadata": {},
   "outputs": [],
   "source": [
    "sbbc = bbc[bbc['c'].between(-0.2, -0.1)]\n",
    "\n",
    "sbbc_2 = bbc[bbc['c'].between(0, 0.3)]\n",
    "hrange = [-0.4, 0.6]\n",
    "\n",
    "plt.figure(dpi=150)\n",
    "plt.hist((bbc.MU - 5 * np.log10(cosmo.luminosity_distance(bbc['zHD'].values).value) - 25),\n",
    "         bins=51, density=True, range=hrange, label='BBC')\n",
    "plt.hist((bbc_g10.MU - 5 * np.log10(cosmo.luminosity_distance(bbc_g10['zHD'].values).value) - 25) , \n",
    "         bins=51, density=True, range=hrange, label='BBC G10')\n",
    "plt.hist((sbbc.MU - 5 * np.log10(cosmo.luminosity_distance(sbbc['zHD'].values).value) - 25), \n",
    "         bins=51, density=True, histtype='step', range=hrange, label='BBC c $<$ 0')\n",
    "plt.hist((sbbc_2.MU - 5 * np.log10(cosmo.luminosity_distance(sbbc_2['zHD'].values).value) - 25), \n",
    "         bins=51, density=True, histtype='step', range=hrange, label='BBC c $>$ 0');\n",
    "plt.legend(loc = 'upper left', fontsize=9)"
   ]
  },
  {
   "cell_type": "code",
   "execution_count": null,
   "id": "f288dfd2-2900-4be2-9eb3-0c9f1326f959",
   "metadata": {},
   "outputs": [],
   "source": [
    "hrange = [-5, 5]\n",
    "\n",
    "plt.figure(dpi=150)\n",
    "plt.hist((bbc.MU - 5 * np.log10(cosmo.luminosity_distance(bbc['zHD'].values).value) - 25) / bbc['MUERR'],\n",
    "         bins=51, density=True, range=hrange, label='BBC')\n",
    "plt.hist((bbc_g10.MU - 5 * np.log10(cosmo.luminosity_distance(bbc_g10['zHD'].values).value) - 25) / bbc_g10['MUERR'] , \n",
    "         bins=51, density=True, range=hrange, label='BBC G10')\n",
    "plt.hist((sbbc.MU - 5 * np.log10(cosmo.luminosity_distance(sbbc['zHD'].values).value) - 25) / sbbc['MUERR'], \n",
    "         bins=51, density=True, histtype='step', range=hrange, label='BBC c $<$ 0')\n",
    "plt.hist((sbbc_2.MU - 5 * np.log10(cosmo.luminosity_distance(sbbc_2['zHD'].values).value) - 25) / sbbc_2['MUERR'], \n",
    "         bins=51, density=True, histtype='step', range=hrange, label='BBC c $>$ 0');\n",
    "plt.legend(loc = 'upper left', fontsize=9)\n",
    "xth = np.linspace(-5, 5, 1000)\n",
    "plt.plot(xth, scs.norm().pdf(xth), c='k', alpha=0.6)"
   ]
  },
  {
   "cell_type": "code",
   "execution_count": null,
   "id": "51f1ed4b-c979-4172-954a-5fbce58adbb4",
   "metadata": {},
   "outputs": [],
   "source": [
    "fig, ax = plt.subplots(dpi=200)\n",
    "mut.plots.plot_density(bbc['HOST_LOGMASS'].values, bbc['SIM_x1'].values, xrange=[7.5, 12], yrange=[-5, 5], bins_2d=31, ax=ax, add_txt='', \n",
    "                               levels=[0.25, 0.5, 0.75, 0.9], smooth=1.5, color='C2');"
   ]
  },
  {
   "cell_type": "code",
   "execution_count": null,
   "id": "a504a934-553d-4028-9249-0d60fb77cf64",
   "metadata": {
    "tags": []
   },
   "outputs": [],
   "source": [
    "plt.hist((bbc['MU'] - 5 * np.log10(cosmo.luminosity_distance(bbc['zHD'].values).value) - 25) / bbc['MUERR'], bins='rice', density=True);\n",
    "plt.hist((bbc['MU'] - 5 * np.log10(cosmo.luminosity_distance(bbc['zHD'].values).value) - 25) / bbc['MUERR'], bins='rice', density=True);\n",
    "\n",
    "xth = np.linspace(-5, 5, 1000)\n",
    "plt.plot(xth, scs.norm().pdf(xth), c='k', alpha=0.6);"
   ]
  },
  {
   "cell_type": "code",
   "execution_count": null,
   "id": "3efd5a6b-e285-4ef1-b89c-e1925a0b7e27",
   "metadata": {
    "tags": []
   },
   "outputs": [],
   "source": [
    "Mrange = [7.5, 12.5]\n",
    "nbins=51\n",
    "plt.figure(dpi=150)\n",
    "plt.hist(fitres['HOST_LOGMASS'],range=Mrange, density=True,bins=nbins, histtype='stepfilled',label='Sim. SN Ia hosts' )\n",
    "plt.hist(full_mock.LOGMASS, range=Mrange, density=True, bins=nbins, histtype='step', lw=1.5, color='C4',label='Uchuu catalog' )\n",
    "plt.xlabel('$\\log M / M_\\odot$')\n",
    "plt.xlim(*Mrange)\n",
    "plt.legend()\n",
    "plt.savefig('../Figures/Host_Massdist.pdf',dpi=None, bbox_inches='tight' );"
   ]
  },
  {
   "cell_type": "code",
   "execution_count": null,
   "id": "c2b56020-5f35-4934-81b1-122ee4ac1684",
   "metadata": {
    "tags": []
   },
   "outputs": [],
   "source": [
    "# Set up the Mollweide projectionD\n",
    "fig = plt.figure(figsize=(8, 5), dpi=150)\n",
    "ax = fig.add_subplot(111, projection='mollweide')\n",
    "# Generate some example data\n",
    "p = ax.scatter(*np.radians([fitres['HOST_RA'] - 180, fitres['HOST_DEC']]), c=fitres['SIM_VPEC'],\n",
    "           cmap='RdBu_r' ,s=0.5, vmin=-600, vmax=600, alpha=0.5)\n",
    "cbar = fig.colorbar(p, fraction=0.02, label='$v_p$ [km s$^{-1}$]')\n",
    "cbar.ax.set_ylabel(cbar.ax.get_ylabel(), fontsize=15)\n",
    "# Customize the ticks\n",
    "ticks = np.linspace(-120, 120, 5)  # Original tick positions\n",
    "tick_labels = [f\"{np.round(t):.0f}°\" for t in ticks]  # Convert to degrees\n",
    "\n",
    "# Set the custom ticks\n",
    "ax.set_xticks(np.radians(ticks))\n",
    "ax.set_xticklabels(tick_labels);\n",
    "plt.savefig('../Figures/sn_loc.png', dpi=400, bbox_inches='tight')"
   ]
  },
  {
   "cell_type": "code",
   "execution_count": null,
   "id": "2dd5305f-7c61-47f6-93f0-787b88885ded",
   "metadata": {},
   "outputs": [],
   "source": [
    "len(fitres['HOST_R"
   ]
  },
  {
   "cell_type": "code",
   "execution_count": null,
   "id": "25f062a8-021a-4678-b1b5-8384d9b0d672",
   "metadata": {},
   "outputs": [],
   "source": [
    "# Set up the Mollweide projectionD\n",
    "fig = plt.figure(figsize=(8, 5), dpi=150)\n",
    "ax = fig.add_subplot(111, projection='mollweide')\n",
    "# Generate some example data\n",
    "p = ax.scatter(*np.radians([bbc['HOST_RA'] - 180, bbc['HOST_DEC']]), c=bbc['SIM_VPEC'],\n",
    "           cmap='RdBu_r' ,s=0.5, vmin=-600, vmax=600, alpha=0.5)\n",
    "cbar = fig.colorbar(p, fraction=0.02, label='$v_p$ [km s$^{-1}$]')\n",
    "cbar.ax.set_ylabel(cbar.ax.get_ylabel(), fontsize=15)\n",
    "# Customize the ticks\n",
    "ticks = np.linspace(-120, 120, 5)  # Original tick positions\n",
    "tick_labels = [f\"{np.round(t):.0f}°\" for t in ticks]  # Convert to degrees\n",
    "\n",
    "# Set the custom ticks\n",
    "ax.set_xticks(np.radians(ticks))\n",
    "ax.set_xticklabels(tick_labels);\n",
    "plt.savefig('../Figures/sn_loc_bbc.png', dpi=400, bbox_inches='tight')"
   ]
  },
  {
   "cell_type": "code",
   "execution_count": null,
   "id": "a765aab3-bfc0-4d91-8e1a-4119d7997beb",
   "metadata": {},
   "outputs": [],
   "source": [
    "len(fitres['zHD'])"
   ]
  },
  {
   "cell_type": "code",
   "execution_count": null,
   "id": "b6e93540-3474-4c65-88b4-119ff1eedbc7",
   "metadata": {
    "tags": []
   },
   "outputs": [],
   "source": [
    "plt.figure(dpi=150)\n",
    "\n",
    "plt.hist(fitres['zHD'], bins=31, range=[0.01,0.16]);\n",
    "plt.xlim(0.01, 0.16)\n",
    "plt.xlabel('$z_\\mathrm{obs}$', fontsize=16)\n",
    "plt.savefig('z.png', dpi=300, bbox_inches='tight')"
   ]
  },
  {
   "cell_type": "markdown",
   "id": "6a5f6082-2339-4969-8499-d2d412239c68",
   "metadata": {},
   "source": [
    "# Parameters dist"
   ]
  },
  {
   "cell_type": "code",
   "execution_count": null,
   "id": "c0619852-9cf9-4b9b-9062-9f239ddf43d2",
   "metadata": {
    "tags": []
   },
   "outputs": [],
   "source": [
    "from snanapytools import utils as ut\n",
    "import matplotlib.colors as mpc\n",
    "import matplotlib.cm as cm"
   ]
  },
  {
   "cell_type": "markdown",
   "id": "6035bef2-b179-44f8-8158-38e898ef9af5",
   "metadata": {
    "tags": []
   },
   "source": [
    "## RND, G10, C11"
   ]
  },
  {
   "cell_type": "code",
   "execution_count": null,
   "id": "e804ba29-5587-4025-8339-193b65cce4e3",
   "metadata": {},
   "outputs": [],
   "source": [
    "plt.figure(dpi=150)\n",
    "for g in par['EBV'].groupby('LOGMASS'):\n",
    "    if g[0] == 9.0 or g[0] ==14:\n",
    "        print(g[1]['EBV'].min())\n",
    "        t = g[1].sort_values('EBV')\n",
    "        tnorm = np.trapz(t['PROB'], x=t['EBV'])\n",
    "        plt.plot(t['EBV'], t['PROB'] / tnorm, label=g[0])\n",
    "        \n",
    "for g in par_mod['EBV'].groupby('LOGMASS'):\n",
    "    if g[0] == 9.0 or g[0]==14:\n",
    "        print(g[1]['EBV'].min())\n",
    "        t = g[1].sort_values('EBV')\n",
    "        tnorm = np.trapz(t['PROB'], x=t['EBV'])\n",
    "        plt.plot(t['EBV'], t['PROB'] / tnorm, label=str(g[0]) + ' mod', ls='--')\n",
    "\n",
    "\n",
    "#xth = np.linspace(0, 1.5, 500)\n",
    "#plt.plot(xth, scs.expon.pdf(xth, scale=0.15), c='C4', alpha=0.5, label='highM') \n",
    "#xth = np.linspace(0, 1.5, 500)\n",
    "#plt.plot(xth, scs.expon.pdf(xth, scale=0.00001), c='C3', alpha=0.5, label='lowM') \n",
    "\n",
    "#plt.plot(xth, scs.expon.pdf(xth, scale=0.5 * 0.12), c='C3', alpha=0.5, label='lowM') \n",
    "\n",
    "plt.legend()"
   ]
  },
  {
   "cell_type": "code",
   "execution_count": null,
   "id": "0626fae3-e59e-4650-a3bb-e3b6d1c21298",
   "metadata": {},
   "outputs": [],
   "source": [
    "new_par['GENSIGMA_SALT2BETA']"
   ]
  },
  {
   "cell_type": "code",
   "execution_count": null,
   "id": "dc428b7f-a97a-4730-b9e8-196856efeecf",
   "metadata": {},
   "outputs": [],
   "source": [
    "from scipy.special import comb, factorial, kn\n",
    "from scipy.stats import norm, truncnorm, expon\n",
    "def approx_dist_betac(x, mu_b, sig_b, mu_c, sig_c, N=30):\n",
    "    dist = np.exp(-0.5 * ((mu_b / sig_b)**2 + (mu_c / sig_c)**2))\n",
    "    sum_fact = np.zeros_like(x)\n",
    "    for n in range(N + 1):\n",
    "        for m in range(2 * n + 1):\n",
    "            term = comb(2 * n, m) \n",
    "            term *= mu_b**m * mu_c**(2 * n - m) \n",
    "            term /= np.pi * factorial(2 * n) * sig_b**(n + m + 1) * sig_c**(3 * n - m + 1)\n",
    "            term *= x**(2 * n - m) * np.abs(x)**(m - n) * kn(m - n, np.abs(x) / (sig_b * sig_c))\n",
    "            sum_fact += term\n",
    "    return dist * sum_fact"
   ]
  },
  {
   "cell_type": "code",
   "execution_count": null,
   "id": "fa19862e-13eb-4d29-a9dd-4a1ecc0602c1",
   "metadata": {},
   "outputs": [],
   "source": [
    "import seaborn as sns\n",
    "# Beta * cint\n",
    "mu_b, sig_b = 1.98, 0.35\n",
    "dist_b = norm(mu_b, sig_b)\n",
    "mu_c, sig_c = -0.084, 0.042\n",
    "dist_c = norm(mu_c, sig_c)\n",
    "\n",
    "# (Rv + 1) * EBV\n",
    "mu_Rv = 2\n",
    "sig_Rv = 1.4\n",
    "min_Rv = 0.5\n",
    "a_Rv = (min_Rv - mu_Rv) / sig_Rv\n",
    "dist_Rv = truncnorm(a=a_Rv, b= np.inf, loc=mu_Rv, scale=sig_Rv)\n",
    "tau_EBV = 0.17\n",
    "dist_EBV = expon(scale=tau_EBV)\n",
    "\n",
    "beta_salt = 3.12\n",
    "\n",
    "N = 100000\n",
    "\n",
    "beta =  dist_b.rvs(N)\n",
    "c_int = dist_c.rvs(N)\n",
    "betac = beta * c_int\n",
    "Rv = dist_Rv.rvs(N)\n",
    "EBV = dist_EBV.rvs(N)\n",
    "RvEBV = (Rv + 1) * EBV\n",
    "xth = np.linspace(-1, 1, 200)\n",
    "plt.figure(figsize=(8, 6))\n",
    "\n",
    "sns.kdeplot(betac, gridsize=300, bw_adjust=1.5, label='betac');\n",
    "sns.kdeplot(RvEBV, gridsize=300, bw_adjust=1.5, label='RvEBV');\n",
    "sns.kdeplot(betac+ RvEBV , gridsize=300, bw_adjust=1.5, label='tot');\n",
    "sns.kdeplot(betac+ RvEBV + np.random.normal(scale=0.3, size=N), gridsize=300, bw_adjust=1.5, label='tot + noise');\n",
    "\n",
    "\n",
    "plt.xlim(-1, 4)\n",
    "plt.legend()\n",
    "#sns.kdeplot(betac_noise, gridsize=100, bw_adjust=1.5);\n"
   ]
  },
  {
   "cell_type": "code",
   "execution_count": null,
   "id": "11386a0c-c118-4d41-ab49-ccb8551959d5",
   "metadata": {},
   "outputs": [],
   "source": [
    "a = 1.22020\n",
    "b = '.6f'\n",
    "f\"{a:{b}}\""
   ]
  },
  {
   "cell_type": "code",
   "execution_count": null,
   "id": "d815839f-8180-49d8-b72b-c1de1ba095dd",
   "metadata": {},
   "outputs": [],
   "source": [
    "count"
   ]
  },
  {
   "cell_type": "code",
   "execution_count": null,
   "id": "118a947f-7c1d-41c4-ad9e-7e4b65215715",
   "metadata": {
    "tags": []
   },
   "outputs": [],
   "source": [
    "vmin = np.min([np.min(list(mass_grp_c.groups.keys())), np.min(list(mass_grp_x1.groups.keys()))])\n",
    "vmax = np.max([np.max(list(mass_grp_c.groups.keys())), np.max(list(mass_grp_x1.groups.keys()))])\n",
    "norm = mpc.Normalize(vmin=vmin, vmax=vmax)\n",
    "cmap = plt.cm.viridis \n",
    "sm = cm.ScalarMappable(cmap=cmap, norm=norm)\n",
    "sm.set_array([])  # Required for colorbar, even if no data is associated\n",
    "\n",
    "\n",
    "# Create the figure and axes\n",
    "fig, (ax1, ax2) = plt.subplots(1, 2, sharey=True, figsize=(10, 6), dpi=150)\n",
    "\n",
    "\n",
    "# Plot the first subplot\n",
    "for g in mass_grp_x1:\n",
    "    ax1.plot(g[1].SALT2x1, g[1].PROB, c=cmap(norm(g[0])))\n",
    "    \n",
    "ax1.set_xlabel(\"$x_1$\", fontsize=18)\n",
    "ax1.set_ylabel(r'$\\mathcal{P}$', fontsize=18)\n",
    "\n",
    "# Plot the second subplot\n",
    "for g in mass_grp_c:\n",
    "    ax2.plot(g[1].SALT2c, g[1].PROB, c=cmap(norm(g[0])))\n",
    "    \n",
    "ax2.set_xlabel(\"$c$\", fontsize=18)\n",
    "ax2.set_xlim(-0.4,0.5)\n",
    "\n",
    "# Add a horizontal colorbar below the plots\n",
    "cbar = fig.colorbar(sm, ax=[ax1, ax2], orientation=\"horizontal\", fraction=0.05, pad=10)\n",
    "cbar.set_label(r\"$\\log M / M_\\odot$\",  fontsize=18)\n",
    "\n",
    "fig.subplots_adjust(wspace=0., bottom=0.25) \n",
    "plt.savefig('dist.pdf', dpi=300)"
   ]
  },
  {
   "cell_type": "markdown",
   "id": "6a1c0f04-833e-4f7c-b1b7-73898a4e50eb",
   "metadata": {},
   "source": [
    "## P23"
   ]
  },
  {
   "cell_type": "code",
   "execution_count": null,
   "id": "786a19c5-c58d-4cdb-86ca-12c5ff155060",
   "metadata": {
    "tags": []
   },
   "outputs": [],
   "source": [
    "file = os.environ['SNDATA_ROOT'] + '/models/population_pdf/DES-SN5YR/DES-SN5YR_LOWZ_S3_P21.DAT.gz'\n",
    "par = snt.tools.read_wgtmap(file)\n",
    "\n",
    "mass_grp_x1 = par['SALT2x1'].groupby('LOGMASS')\n",
    "mass_grp_rv = par['RV'].groupby('LOGMASS')\n",
    "mass_grp_ebv = par['EBV'].groupby('LOGMASS')"
   ]
  },
  {
   "cell_type": "code",
   "execution_count": null,
   "id": "f48ce629-55d6-4abc-9fdc-d8410b52c435",
   "metadata": {
    "tags": []
   },
   "outputs": [],
   "source": [
    "plt.figure(dpi=200)\n",
    "g = mass_grp_ebv.get_group(5)\n",
    "for gz in g.groupby('ZTRUE'):\n",
    "    plt.plot(gz[1].EBV, gz[1].PROB)\n",
    "    \n",
    "plt.xlim(0, 0.4)"
   ]
  },
  {
   "cell_type": "code",
   "execution_count": null,
   "id": "6197abdd-7ee0-40a2-a75d-01eb9aba2ece",
   "metadata": {
    "tags": []
   },
   "outputs": [],
   "source": [
    "g1.PROB.values == g2.PROB.values"
   ]
  },
  {
   "cell_type": "code",
   "execution_count": null,
   "id": "9c62a443-c91b-4e64-a05b-a6de0960ffff",
   "metadata": {
    "tags": []
   },
   "outputs": [],
   "source": [
    "gz.groups.keys()\n"
   ]
  },
  {
   "cell_type": "code",
   "execution_count": null,
   "id": "4167f5d2-2217-4700-a15d-55431e975f87",
   "metadata": {
    "tags": []
   },
   "outputs": [],
   "source": [
    "gz.get_group(0.1).groupby"
   ]
  },
  {
   "cell_type": "code",
   "execution_count": null,
   "id": "a73eb42d-47a0-4d9e-9f8d-a6eaee815453",
   "metadata": {
    "tags": []
   },
   "outputs": [],
   "source": [
    "c_th = np.linspace(-0.5, 0.5, 10000)\n",
    "P = np.interp(c_th, par['SALT2c'].SALT2c.values, par['SALT2c'].PROB.values)\n",
    "P /= np.trapz(P, x=c_th) \n",
    "\n",
    "mu = np.trapz(P * c_th, x=c_th) \n",
    "mu2 = np.trapz(P * c_th**2, x=c_th) \n",
    "print(mu)\n",
    "print(np.sqrt(mu2 - mu**2))"
   ]
  },
  {
   "cell_type": "code",
   "execution_count": null,
   "id": "4fc84123-67d4-4e0c-a291-7bcbb058632a",
   "metadata": {
    "tags": []
   },
   "outputs": [],
   "source": [
    "vmin = np.min([np.min(list(mass_grp_c.groups.keys())), np.min(list(mass_grp_x1.groups.keys()))])\n",
    "vmax = np.max([np.max(list(mass_grp_c.groups.keys())), np.max(list(mass_grp_x1.groups.keys()))])\n",
    "norm = mpc.Normalize(vmin=vmin, vmax=vmax)\n",
    "cmap = plt.cm.viridis \n",
    "sm = cm.ScalarMappable(cmap=cmap, norm=norm)\n",
    "sm.set_array([])  # Required for colorbar, even if no data is associated\n",
    "\n",
    "\n",
    "# Create the figure and axes\n",
    "fig, (ax1, ax2) = plt.subplots(2, 2, sharey=True, figsize=(10, 8), dpi=150)\n",
    "\n",
    "\n",
    "# Plot the first subplot\n",
    "for g in mass_grp_x1:\n",
    "    ax1[0].plot(g[1].SALT2x1, g[1].PROB, c=cmap(norm(g[0])))\n",
    "    \n",
    "ax1[0].set_xlabel(\"$x_1$\", fontsize=15)\n",
    "ax1[0].set_ylabel(r'$\\mathcal{P}$', fontsize=15)\n",
    "\n",
    "# Plot the second subplot\n",
    "ax1[1].plot(par['SALT2c'].SALT2c, par['SALT2c'].PROB)\n",
    "    \n",
    "ax1[1].set_xlabel(\"$c$\", fontsize=15)\n",
    "\n",
    "# Plot the first subplot\n",
    "for g in mass_grp_rv:\n",
    "    ax2[0].plot(g[1].RV, g[1].PROB, c=cmap(norm(g[0])))\n",
    "\n",
    "ax2[0].set_xlabel(\"$R_V$\", fontsize=15)\n",
    "ax2[0].axvline(3.25)\n",
    "ax2[0].axvline(3.25+0.93)\n",
    "ax2[0].axvline(1.66)\n",
    "\n",
    "ax2[0].set_ylabel(r'$\\mathcal{P}$', fontsize=15)\n",
    "\n",
    "\n",
    "# Plot the first subplot\n",
    "for g in mass_grp_ebv:\n",
    "    i = 0\n",
    "    for gg in g[1].groupby('ZTRUE'):\n",
    "        ax2[1].plot(gg[1].EBV, gg[1].PROB, c=cmap(norm(g[0])), label=f'z={gg[0]}')\n",
    "        i+=1\n",
    "        \n",
    "ax2[0].set_xlabel(\"$R_V$\", fontsize=15)\n",
    "ax2[0].set_ylabel(r'$\\mathcal{P}$', fontsize=15)\n",
    "plt.legend()\n",
    "\n",
    "# Add a horizontal colorbar below the plots\n",
    "cbar = fig.colorbar(sm, ax=[*ax2], orientation=\"horizontal\", fraction=0.08, pad=0.5)\n",
    "cbar.set_label(r\"$\\log M / M_\\odot$\",  fontsize=15)\n",
    "\n",
    "fig.subplots_adjust(wspace=0., bottom=0.2,) "
   ]
  },
  {
   "cell_type": "code",
   "execution_count": null,
   "id": "8c4958b8-e341-4efc-b800-8d71c6d3a094",
   "metadata": {},
   "outputs": [],
   "source": []
  },
  {
   "cell_type": "code",
   "execution_count": null,
   "id": "0a7ee663-6006-41e9-ada1-e0c2dae65315",
   "metadata": {},
   "outputs": [],
   "source": [
    "from astropy.constants import c as ast_c\n",
    "\n",
    "_CLIGHT_KMS_ = ast_c.to('km/s').value"
   ]
  },
  {
   "cell_type": "code",
   "execution_count": null,
   "id": "b1773a91-7ccb-464e-bb65-f290a61ba64e",
   "metadata": {},
   "outputs": [],
   "source": [
    "_CLIGHT_KMS_ * 0.12 * 0.17 * np.log(10) / 5"
   ]
  },
  {
   "cell_type": "code",
   "execution_count": null,
   "id": "9cd63567-4588-468f-9472-e27a74928dd0",
   "metadata": {},
   "outputs": [],
   "source": [
    "from astropy.io import fits"
   ]
  },
  {
   "cell_type": "code",
   "execution_count": null,
   "id": "c61ac3c6-dba1-4174-a6b6-af9eb8e73e51",
   "metadata": {},
   "outputs": [],
   "source": [
    "d= fits.open('/pscratch/sd/d/desctd/PIPPIN_OUTPUT/LSST_UCHUU_MOCK07_BBC_BC/1_SIM/LSST_RNDSMEAR_BBC/PIP_LSST_UCHUU_MOCK07_BBC_BC_LSST_RNDSMEAR_BBC/PIP_LSST_UCHUU_MOCK07_BBC1977b_SNIaMODEL00-0001_HEAD.FITS.gz')"
   ]
  },
  {
   "cell_type": "code",
   "execution_count": null,
   "id": "11de63be-ef24-4322-b06f-14bfde86e7ff",
   "metadata": {},
   "outputs": [],
   "source": [
    "plt.hist(d[1].data['SIM_SALT2alpha'])"
   ]
  },
  {
   "cell_type": "code",
   "execution_count": null,
   "id": "2fe6a440-3fcb-4750-b800-47195657fa3a",
   "metadata": {},
   "outputs": [],
   "source": [
    "plt.hist(d[1].data['SIM_SALT2beta']);"
   ]
  },
  {
   "cell_type": "code",
   "execution_count": null,
   "id": "e1303158-69d0-4e62-ad1c-fbaa472f60db",
   "metadata": {},
   "outputs": [],
   "source": [
    "len(d[1].data['SIM_SALT2beta'])"
   ]
  },
  {
   "cell_type": "code",
   "execution_count": null,
   "id": "054318f7-a980-4a2f-80d0-bb6e57bb895c",
   "metadata": {},
   "outputs": [],
   "source": [
    "sim.head[sim.head['NOBS'] > 50]"
   ]
  },
  {
   "cell_type": "code",
   "execution_count": null,
   "id": "0f52a41d-c31c-40f1-9298-3d2ba31775ab",
   "metadata": {},
   "outputs": [],
   "source": [
    "pippin = snt.PIPPIN_READER('LSST_UCHUU_MOCK00_BC')\n",
    "sim = pippin.get_sim('LSST_RNDSMEAR')"
   ]
  },
  {
   "cell_type": "code",
   "execution_count": null,
   "id": "31ed9ea7-d8ee-4489-b5a7-57a3182e441f",
   "metadata": {},
   "outputs": [],
   "source": [
    "sim.head[sim.head['NOBS']>50]"
   ]
  },
  {
   "cell_type": "code",
   "execution_count": null,
   "id": "10eeb312-7b27-4b75-ba32-db28d87cf0f3",
   "metadata": {},
   "outputs": [],
   "source": [
    "sim.head.columns.values"
   ]
  },
  {
   "cell_type": "code",
   "execution_count": null,
   "id": "4c87ae10-7615-4167-b2c3-46962d7dbbc4",
   "metadata": {},
   "outputs": [],
   "source": [
    "sim.head.loc[176831]"
   ]
  },
  {
   "cell_type": "code",
   "execution_count": null,
   "id": "3a7983e8-4a1e-4c09-ac97-27439730d316",
   "metadata": {},
   "outputs": [],
   "source": [
    "import sncosmo as snc"
   ]
  },
  {
   "cell_type": "code",
   "execution_count": null,
   "id": "12c79cf7-7ed1-4595-87d7-cece5d6b0888",
   "metadata": {},
   "outputs": [],
   "source": [
    "sn = sim.get_sn_phot(176831)"
   ]
  },
  {
   "cell_type": "code",
   "execution_count": null,
   "id": "ad6bfc66-75a2-4243-9a89-2f875422742c",
   "metadata": {},
   "outputs": [],
   "source": [
    "SALT = snc.SALT3Source(modeldir='/global/homes/b/bastienc/MY_SNANA_DIR/LSST_SNANA/PaperBBCVpec/Figures/SALT3.DES5YR')"
   ]
  },
  {
   "cell_type": "code",
   "execution_count": null,
   "id": "28e171f8-838b-49dc-9bae-fc76f9691eac",
   "metadata": {},
   "outputs": [],
   "source": [
    "M = snc.Model(SALT)\n",
    "M.set(z=sim.head.loc[176831]['SIM_REDSHIFT_HELIO'], \n",
    "      t0=sim.head.loc[176831]['SIM_PEAKMJD'],\n",
    "      x0=sim.head.loc[176831]['SIM_SALT2x0'],\n",
    "      x1=sim.head.loc[176831]['SIM_SALT2x1'],\n",
    "      c=sim.head.loc[176831]['SIM_SALT2c'])\n"
   ]
  },
  {
   "cell_type": "code",
   "execution_count": null,
   "id": "a57a1540-673b-425b-840c-9a8c50f8d715",
   "metadata": {},
   "outputs": [],
   "source": [
    "lc[1].SIM_MAGOBS"
   ]
  },
  {
   "cell_type": "code",
   "execution_count": null,
   "id": "8c73946f-ba12-4191-9c12-9b1204ae5a7c",
   "metadata": {},
   "outputs": [],
   "source": [
    "fig, ax = plt.subplots(dpi=200)\n",
    "for lc in sn.groupby('BAND'):\n",
    "    cl = None\n",
    "    band = lc[0].strip()\n",
    "    if band == 'LSST-g':\n",
    "        print('SLT')\n",
    "        cl='C1'\n",
    "    elif band == 'LSST-r':\n",
    "        cl='C2'\n",
    "    elif band == 'LSST-i':\n",
    "        cl='C4'\n",
    "    elif band == 'LSST-u':\n",
    "        cl='C0'\n",
    "    elif band == 'LSST-z':\n",
    "        cl='C3'\n",
    "    ax.errorbar(lc[1].MJD, lc[1].FLUXCAL, yerr=lc[1].FLUXCALERR, fmt='o', mew=2, label=lc[0].lower(), c=cl, mfc='white', ms=5)\n",
    "    \n",
    "ax.spines[['right', 'top']].set_visible(False)\n",
    "\n",
    "ax.set_yticks([])\n",
    "ax.set_xticks([])\n",
    "ax.legend()\n",
    "ax.set_ylabel('Flux')\n",
    "ax.set_xlabel('Time')\n",
    "plt.savefig('lc.png', dpi=300)"
   ]
  },
  {
   "cell_type": "code",
   "execution_count": null,
   "id": "959ca4ef-a031-4119-8689-26bc6883c0ba",
   "metadata": {},
   "outputs": [],
   "source": []
  },
  {
   "cell_type": "code",
   "execution_count": null,
   "id": "bf374346-464f-466d-9b82-5f48dc8cde2a",
   "metadata": {},
   "outputs": [],
   "source": [
    "results_models_path = Path('../results_p21_var//')\n"
   ]
  },
  {
   "cell_type": "code",
   "execution_count": null,
   "id": "e85acdf0-bcdb-4818-8fdf-1d81c31ef16d",
   "metadata": {},
   "outputs": [],
   "source": [
    "\n",
    "res_models = []\n",
    "for f in sorted(results_models_path.glob('*_nojax.csv')):\n",
    "    res_models.append(pd.read_csv(f, index_col=0))\n",
    "resdf = pd.concat(res_models, keys=np.arange(8))\n",
    "grp_models = resdf.groupby('model')\n"
   ]
  },
  {
   "cell_type": "code",
   "execution_count": null,
   "id": "52a0c83f-3ddc-4b5f-ba34-d6554f206493",
   "metadata": {},
   "outputs": [],
   "source": [
    "grp_models"
   ]
  },
  {
   "cell_type": "code",
   "execution_count": null,
   "id": "86c8da2c-bd67-4e50-8ea7-9b895d8aeed6",
   "metadata": {},
   "outputs": [],
   "source": [
    "mock = 0\n",
    "\n",
    "MOCK_DIR = PIPPIN_DIR / f'LSST_UCHUU_MOCK{mock:02d}_BC'\n",
    "\n",
    "BBC_DIR = MOCK_DIR / '6_BIASCOR'\n",
    "FIT_DIR =  MOCK_DIR / '2_LCFIT'\n",
    "zrange = [0.02, 0.1]\n",
    "\n",
    "# Open files\n",
    "data_fit = {}\n",
    "par_fit = {}\n",
    "par_BBC = {}\n",
    "data_bbc = {}\n",
    "for k, g in grp_models:\n",
    "    sg = g.loc[mock]\n",
    "\n",
    "    # BBC DATA\n",
    "    BBC_FILE = BBC_DIR / f'LSST_{k}/output/OUTPUT_BBCFIT/FITOPT000_MUOPT000.FITRES.gz'\n",
    "    df_BBC = ascii.read(BBC_FILE).to_pandas().set_index('CIDint')\n",
    "    \n",
    "    # STANDARD DATA\n",
    "    FIT_FILE = FIT_DIR /  f'LSST_FIT_LSST_{k}/output/PIP_LSST_UCHUU_MOCK{mock:02d}_BC_LSST_{k}/FITOPT000.FITRES.gz'\n",
    "    df_STDFIT = ascii.read(FIT_FILE).to_pandas().set_index('CID')\n",
    "    df_STDFIT = df_STDFIT.loc[df_BBC.index]\n",
    "    \n",
    "    mask = ((df_BBC[\"HOST_NMATCH\"] > 0) & (df_BBC['zHD'].between(zrange[0], zrange[1])) & (df_STDFIT.apply(pf.positive_def, axis=1))).values\n",
    "  \n",
    "    df_BBC = df_BBC[mask]\n",
    "    df_STDFIT = df_STDFIT[mask]\n",
    "    df_STDFIT = df_STDFIT.apply(pf.x0_to_mB_err, axis=1)\n",
    "    \n",
    "    data_bbc[k] = flip.data_vector.basic.VelFromHDres(\n",
    "        {\n",
    "            \"ra\": np.deg2rad(df_BBC['HOST_RA'].values),\n",
    "            \"dec\": np.deg2rad(df_BBC['HOST_DEC'].values),\n",
    "            \"dmu\": df_BBC['MU'].values - cosmo.distmod(df_BBC['zCMB'].values).value,\n",
    "            \"dmu_error\": df_BBC['MUERR'].values,\n",
    "            \"zobs\": df_BBC['zCMB'].values,\n",
    "            \"rcom_zobs\": cosmo.comoving_distance(df_BBC[\"zCMB\"].values).value * cosmo.h,\n",
    "            \"hubble_norm\": 100 * cosmo.efunc(df_BBC[\"zCMB\"].values),\n",
    "            \"x1\": df_BBC[\"x1\"].values,\n",
    "            \"c\": df_BBC[\"c\"].values,\n",
    "            \"mb\": df_BBC['mB'].values ,\n",
    "            \"vtrue\": df_BBC['SIM_HOSTLIB_VPEC'].values\n",
    "        }, \n",
    "        vel_estimator=\"full\"\n",
    "        )\n",
    "    \n",
    "    par_BBC[k] = {'M_0': sg['M_0_BBC'].values[0]}\n",
    "\n",
    "\n",
    "    data_fit[k] = flip.data_vector.snia_vectors.VelFromSALTfit({\n",
    "        \"ra\": np.deg2rad(df_STDFIT['HOST_RA'].values),\n",
    "        \"dec\": np.deg2rad(df_STDFIT['HOST_DEC'].values),\n",
    "        \"mb\": df_STDFIT['mB'].values ,\n",
    "        \"x1\": df_STDFIT[\"x1\"].values,\n",
    "        \"c\": df_STDFIT[\"c\"].values,\n",
    "        \"e_mb\": df_STDFIT[\"mBERR\"].values,\n",
    "        \"e_x1\": df_STDFIT[\"x1ERR\"].values,\n",
    "        \"e_c\": df_STDFIT[\"cERR\"].values,\n",
    "        \"cov_mb_x1\": df_STDFIT[\"COV_mB_x1\"].values,\n",
    "        \"cov_mb_c\": df_STDFIT[\"COV_mB_c\"].values,\n",
    "        \"cov_x1_c\": df_STDFIT[\"COV_x1_c\"].values,\n",
    "        \"zobs\": df_STDFIT[\"zCMB\"].values,\n",
    "        \"rcom_zobs\": cosmo.comoving_distance(df_STDFIT[\"zCMB\"].values).value * cosmo.h,\n",
    "        \"hubble_norm\": 100 * cosmo.efunc(df_STDFIT[\"zCMB\"].values),\n",
    "        \"host_logmass\": df_STDFIT[\"HOST_LOGMASS\"].values,\n",
    "        \"vtrue\": df_STDFIT['SIM_HOSTLIB_VPEC'].values,\n",
    "        }, \n",
    "        vel_estimator=\"full\", \n",
    "        h=cosmo.h)\n",
    "\n",
    "    par_fit[k] = {tk: sg[tk+ '_STDFIT'].values[0] for tk in TRIPP_KEYS}\n",
    "\n",
    "mock_dic = {\n",
    "      'BBC':  data_bbc, \n",
    "      'STDFIT': data_fit, \n",
    "      'STDFIT_par': par_fit,\n",
    "      'BBC_par': par_BBC\n",
    "        }"
   ]
  },
  {
   "cell_type": "code",
   "execution_count": null,
   "id": "05130d02-858e-499b-8419-bada695a904b",
   "metadata": {},
   "outputs": [],
   "source": [
    "dmu_BBC = {}\n",
    "dmuerr_BBC = {}\n",
    "dmu_STDFIT = {}\n",
    "dmuerr_STDFIT = {}\n",
    "for k in mock_dic['BBC']:\n",
    "    dmu_BBC[k] = mock_dic['BBC'][k].data['dmu'] - mock_dic['BBC_par'][k]['M_0']\n",
    "    dmuerr_BBC[k] = mock_dic['BBC'][k].data['dmu_error']\n",
    "\n",
    "    dmu_STDFIT[k] = mock_dic['STDFIT'][k].compute_distance_modulus_difference(mock_dic['STDFIT_par'][k])\n",
    "    dmuerr_STDFIT[k] = np.sqrt(mock_dic['STDFIT'][k].compute_observed_distance_modulus_variance(mock_dic['STDFIT_par'][k]))\n"
   ]
  },
  {
   "cell_type": "code",
   "execution_count": null,
   "id": "a2a37b71-eb31-472f-8bf5-affa9ccf9dcd",
   "metadata": {},
   "outputs": [],
   "source": []
  },
  {
   "cell_type": "code",
   "execution_count": null,
   "id": "400fefd6-1bf8-4618-bdae-161c3e8df91a",
   "metadata": {},
   "outputs": [],
   "source": [
    "plt.figure(dpi=150)\n",
    "plt.scatter(mock_dic['STDFIT']['P21'].data['zobs'], dmu_STDFIT['P21'], s=5,\n",
    "            c=mock_dic['STDFIT']['P21'].data['c'],vmin=-0.25, vmax=0.25, cmap='coolwarm')\n",
    "plt.axhline(0, ls='--', c='k')\n",
    "plt.ylim(-0.5, 0.5)\n",
    "plt.xlim(0.015, 0.105)"
   ]
  },
  {
   "cell_type": "code",
   "execution_count": null,
   "id": "e839ce26-c098-41bb-bfaa-c73987d43dca",
   "metadata": {},
   "outputs": [],
   "source": [
    "plt.figure(dpi=150)\n",
    "plt.scatter(mock_dic['BBC']['P21'].data['zobs'], dmu_BBC['P21'], s=5,\n",
    "            c=mock_dic['BBC']['P21'].data['c'],vmin=-0.25, vmax=0.25, cmap='coolwarm')\n",
    "plt.axhline(0, ls='--', c='k')\n",
    "plt.ylim(-0.5, 0.5)\n",
    "plt.xlim(0.015, 0.105)"
   ]
  },
  {
   "cell_type": "code",
   "execution_count": null,
   "id": "9303a2a4-a8b8-458b-980c-d9c3bb561a88",
   "metadata": {},
   "outputs": [],
   "source": []
  }
 ],
 "metadata": {
  "kernelspec": {
   "display_name": "flip_nojax",
   "language": "python",
   "name": "flip_nojax"
  },
  "language_info": {
   "codemirror_mode": {
    "name": "ipython",
    "version": 3
   },
   "file_extension": ".py",
   "mimetype": "text/x-python",
   "name": "python",
   "nbconvert_exporter": "python",
   "pygments_lexer": "ipython3",
   "version": "3.11.9"
  }
 },
 "nbformat": 4,
 "nbformat_minor": 5
}
